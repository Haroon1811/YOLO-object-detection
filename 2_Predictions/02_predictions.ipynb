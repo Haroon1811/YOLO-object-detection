{
 "cells": [
  {
   "cell_type": "code",
   "execution_count": 56,
   "id": "8af15c0c",
   "metadata": {},
   "outputs": [],
   "source": [
    "import cv2 as cv"
   ]
  },
  {
   "cell_type": "code",
   "execution_count": 57,
   "id": "c95491c8",
   "metadata": {},
   "outputs": [],
   "source": [
    "from yolo_predictions import YOLO_PRED"
   ]
  },
  {
   "cell_type": "code",
   "execution_count": 58,
   "id": "84495eba",
   "metadata": {},
   "outputs": [],
   "source": [
    "yolo = YOLO_PRED('./Model/weights/best.onnx', 'data.yaml')"
   ]
  },
  {
   "cell_type": "code",
   "execution_count": 59,
   "id": "4e00ff32",
   "metadata": {},
   "outputs": [],
   "source": [
    "img = cv.imread('./street_img1.jpg')\n",
    "cv.imshow(\"image\", img)\n",
    "cv.waitKey(0)\n",
    "cv.destroyAllWindows()"
   ]
  },
  {
   "cell_type": "code",
   "execution_count": 60,
   "id": "f96f125d",
   "metadata": {},
   "outputs": [
    {
     "name": "stdout",
     "output_type": "stream",
     "text": [
      "956 1920 3\n",
      "person: 57%\n",
      "person: 53%\n",
      "person: 52%\n",
      "bus: 44%\n",
      "car: 41%\n"
     ]
    }
   ],
   "source": [
    "# Predictions :\n",
    "img_pred = yolo.predictions(img)"
   ]
  },
  {
   "cell_type": "code",
   "execution_count": 61,
   "id": "1d5c173e",
   "metadata": {},
   "outputs": [],
   "source": [
    "cv.imshow(\"image predictions\", img_pred)\n",
    "cv.waitKey(0)\n",
    "cv.destroyAllWindows()"
   ]
  },
  {
   "cell_type": "markdown",
   "id": "2fa2b9fd",
   "metadata": {},
   "source": [
    "# REAL TIME OBJECT DETECTION"
   ]
  },
  {
   "cell_type": "code",
   "execution_count": 62,
   "id": "c4b0ae53",
   "metadata": {},
   "outputs": [
    {
     "name": "stdout",
     "output_type": "stream",
     "text": [
      "956 1920 3\n",
      "person: 57%\n",
      "person: 53%\n",
      "person: 52%\n",
      "bus: 44%\n",
      "car: 41%\n",
      "956 1920 3\n",
      "person: 57%\n",
      "person: 53%\n",
      "person: 52%\n",
      "bus: 44%\n",
      "car: 41%\n",
      "956 1920 3\n",
      "person: 57%\n",
      "person: 53%\n",
      "person: 52%\n",
      "bus: 44%\n",
      "car: 41%\n",
      "956 1920 3\n",
      "person: 57%\n",
      "person: 53%\n",
      "person: 52%\n",
      "bus: 44%\n",
      "car: 41%\n",
      "956 1920 3\n",
      "person: 57%\n",
      "person: 53%\n",
      "person: 52%\n",
      "bus: 44%\n",
      "car: 41%\n"
     ]
    }
   ],
   "source": [
    "cap = cv.VideoCapture('video.mp4')\n",
    "\n",
    "while True:\n",
    "    ret, frame = cap.read()\n",
    "    if ret == False:\n",
    "        print('unable to read video')\n",
    "        break\n",
    "    \n",
    "    pred_image = yolo.predictions(frame)\n",
    "    cv.imshow('YOLO', pred_image)\n",
    "    if cv.waitKey(1) == 27:\n",
    "        break\n",
    "\n",
    "cv.destroyAllWindows()\n",
    "cap.release()\n",
    "    "
   ]
  },
  {
   "cell_type": "code",
   "execution_count": null,
   "id": "4219a5a6",
   "metadata": {},
   "outputs": [],
   "source": []
  }
 ],
 "metadata": {
  "kernelspec": {
   "display_name": "Python 3 (ipykernel)",
   "language": "python",
   "name": "python3"
  },
  "language_info": {
   "codemirror_mode": {
    "name": "ipython",
    "version": 3
   },
   "file_extension": ".py",
   "mimetype": "text/x-python",
   "name": "python",
   "nbconvert_exporter": "python",
   "pygments_lexer": "ipython3",
   "version": "3.10.7"
  }
 },
 "nbformat": 4,
 "nbformat_minor": 5
}
